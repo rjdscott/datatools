{
 "cells": [
  {
   "cell_type": "markdown",
   "metadata": {},
   "source": [
    "# Dask Delayed ETL Tutorial\n",
    "\n",
    "In this example we will be taking exported files from Yahoo! finance, adding the ticker to a column, and loading into a sqlite database.\n",
    "\n",
    "In many cases, if the data contained the ticker as one of the columns in the csv, I would just use `dask.DataFrame` and parse a glob for the file names \n",
    "so it would read the files in parallel and save me from having to use `dask.delayed`. but since i need the name of the file to add as a column value, I \n",
    "need to take this approach."
   ]
  },
  {
   "cell_type": "code",
   "execution_count": 1,
   "metadata": {},
   "outputs": [],
   "source": [
    "from dask.distributed import Client\n",
    "import dask.dataframe as dd\n",
    "import pandas as pd\n",
    "import dask\n",
    "import os"
   ]
  },
  {
   "cell_type": "code",
   "execution_count": 2,
   "metadata": {},
   "outputs": [
    {
     "data": {
      "text/html": [
       "<table style=\"border: 2px solid white;\">\n",
       "<tr>\n",
       "<td style=\"vertical-align: top; border: 0px solid white\">\n",
       "<h3 style=\"text-align: left;\">Client</h3>\n",
       "<ul style=\"text-align: left; list-style: none; margin: 0; padding: 0;\">\n",
       "  <li><b>Scheduler: </b>tcp://127.0.0.1:57595</li>\n",
       "  <li><b>Dashboard: </b><a href='http://127.0.0.1:8787/status' target='_blank'>http://127.0.0.1:8787/status</a></li>\n",
       "</ul>\n",
       "</td>\n",
       "<td style=\"vertical-align: top; border: 0px solid white\">\n",
       "<h3 style=\"text-align: left;\">Cluster</h3>\n",
       "<ul style=\"text-align: left; list-style:none; margin: 0; padding: 0;\">\n",
       "  <li><b>Workers: </b>4</li>\n",
       "  <li><b>Cores: </b>8</li>\n",
       "  <li><b>Memory: </b>8.00 GB</li>\n",
       "</ul>\n",
       "</td>\n",
       "</tr>\n",
       "</table>"
      ],
      "text/plain": [
       "<Client: 'tcp://127.0.0.1:57595' processes=4 threads=8, memory=8.00 GB>"
      ]
     },
     "execution_count": 2,
     "metadata": {},
     "output_type": "execute_result"
    }
   ],
   "source": [
    "client = Client(n_workers=4, threads_per_worker=2, memory_limit='2GB')\n",
    "client"
   ]
  },
  {
   "cell_type": "code",
   "execution_count": 3,
   "metadata": {},
   "outputs": [],
   "source": [
    "def extract_csv_data(ticker, path_to_csv):\n",
    "    df = pd.read_csv(f'{path_to_csv}{ticker}.csv')\n",
    "\n",
    "    column_dict = {\n",
    "        'Adj Close': 'close_adj',\n",
    "        'Date': 'date',\n",
    "        'Open': 'open',\n",
    "        'High': 'high',\n",
    "        'Low': 'low',\n",
    "        'Close': 'close',\n",
    "        'Volume': 'volume'\n",
    "    }\n",
    "    df = df.rename(columns=column_dict)\n",
    "    df['ticker'] = ticker\n",
    "    return df"
   ]
  },
  {
   "cell_type": "code",
   "execution_count": 4,
   "metadata": {},
   "outputs": [],
   "source": [
    "input_file_path = '../../../../data/raw/'\n",
    "output_file_path = '../../../../data/'\n",
    "tickers = 'AAPL,AMZN,FB,IBM,MSFT'.split(',')\n",
    "ticker_dfs_list = [dask.delayed(extract_csv_data)(ticker, input_file_path) for ticker in tickers]"
   ]
  },
  {
   "cell_type": "code",
   "execution_count": 5,
   "metadata": {},
   "outputs": [],
   "source": [
    "tickers_df = dd.from_delayed(ticker_dfs_list)"
   ]
  },
  {
   "cell_type": "code",
   "execution_count": 6,
   "metadata": {},
   "outputs": [
    {
     "data": {
      "text/plain": [
       "<bound method DaskMethodsMixin.visualize of Dask DataFrame Structure:\n",
       "                 date     open     high      low    close close_adj volume  ticker\n",
       "npartitions=5                                                                     \n",
       "               object  float64  float64  float64  float64   float64  int64  object\n",
       "                  ...      ...      ...      ...      ...       ...    ...     ...\n",
       "...               ...      ...      ...      ...      ...       ...    ...     ...\n",
       "                  ...      ...      ...      ...      ...       ...    ...     ...\n",
       "                  ...      ...      ...      ...      ...       ...    ...     ...\n",
       "Dask Name: from-delayed, 10 tasks>"
      ]
     },
     "execution_count": 6,
     "metadata": {},
     "output_type": "execute_result"
    }
   ],
   "source": [
    "tickers_df.visualize"
   ]
  },
  {
   "cell_type": "code",
   "execution_count": 7,
   "metadata": {},
   "outputs": [],
   "source": [
    "output_path_full = f'{output_file_path}all-tickers'"
   ]
  },
  {
   "cell_type": "code",
   "execution_count": 8,
   "metadata": {},
   "outputs": [
    {
     "data": {
      "text/html": [
       "<div>\n",
       "<style scoped>\n",
       "    .dataframe tbody tr th:only-of-type {\n",
       "        vertical-align: middle;\n",
       "    }\n",
       "\n",
       "    .dataframe tbody tr th {\n",
       "        vertical-align: top;\n",
       "    }\n",
       "\n",
       "    .dataframe thead th {\n",
       "        text-align: right;\n",
       "    }\n",
       "</style>\n",
       "<table border=\"1\" class=\"dataframe\">\n",
       "  <thead>\n",
       "    <tr style=\"text-align: right;\">\n",
       "      <th></th>\n",
       "      <th>date</th>\n",
       "      <th>open</th>\n",
       "      <th>high</th>\n",
       "      <th>low</th>\n",
       "      <th>close</th>\n",
       "      <th>close_adj</th>\n",
       "      <th>volume</th>\n",
       "      <th>ticker</th>\n",
       "    </tr>\n",
       "  </thead>\n",
       "  <tbody>\n",
       "    <tr>\n",
       "      <th>0</th>\n",
       "      <td>2015-10-19</td>\n",
       "      <td>27.700001</td>\n",
       "      <td>27.937500</td>\n",
       "      <td>27.527500</td>\n",
       "      <td>27.932501</td>\n",
       "      <td>25.812820</td>\n",
       "      <td>119036800</td>\n",
       "      <td>AAPL</td>\n",
       "    </tr>\n",
       "    <tr>\n",
       "      <th>1</th>\n",
       "      <td>2015-10-20</td>\n",
       "      <td>27.834999</td>\n",
       "      <td>28.542500</td>\n",
       "      <td>27.705000</td>\n",
       "      <td>28.442499</td>\n",
       "      <td>26.284117</td>\n",
       "      <td>195871200</td>\n",
       "      <td>AAPL</td>\n",
       "    </tr>\n",
       "    <tr>\n",
       "      <th>2</th>\n",
       "      <td>2015-10-21</td>\n",
       "      <td>28.500000</td>\n",
       "      <td>28.895000</td>\n",
       "      <td>28.424999</td>\n",
       "      <td>28.440001</td>\n",
       "      <td>26.281809</td>\n",
       "      <td>167180800</td>\n",
       "      <td>AAPL</td>\n",
       "    </tr>\n",
       "    <tr>\n",
       "      <th>3</th>\n",
       "      <td>2015-10-22</td>\n",
       "      <td>28.582500</td>\n",
       "      <td>28.875000</td>\n",
       "      <td>28.525000</td>\n",
       "      <td>28.875000</td>\n",
       "      <td>26.683798</td>\n",
       "      <td>166616400</td>\n",
       "      <td>AAPL</td>\n",
       "    </tr>\n",
       "    <tr>\n",
       "      <th>4</th>\n",
       "      <td>2015-10-23</td>\n",
       "      <td>29.174999</td>\n",
       "      <td>29.807501</td>\n",
       "      <td>29.082500</td>\n",
       "      <td>29.770000</td>\n",
       "      <td>27.510878</td>\n",
       "      <td>237467600</td>\n",
       "      <td>AAPL</td>\n",
       "    </tr>\n",
       "  </tbody>\n",
       "</table>\n",
       "</div>"
      ],
      "text/plain": [
       "         date       open       high        low      close  close_adj  \\\n",
       "0  2015-10-19  27.700001  27.937500  27.527500  27.932501  25.812820   \n",
       "1  2015-10-20  27.834999  28.542500  27.705000  28.442499  26.284117   \n",
       "2  2015-10-21  28.500000  28.895000  28.424999  28.440001  26.281809   \n",
       "3  2015-10-22  28.582500  28.875000  28.525000  28.875000  26.683798   \n",
       "4  2015-10-23  29.174999  29.807501  29.082500  29.770000  27.510878   \n",
       "\n",
       "      volume ticker  \n",
       "0  119036800   AAPL  \n",
       "1  195871200   AAPL  \n",
       "2  167180800   AAPL  \n",
       "3  166616400   AAPL  \n",
       "4  237467600   AAPL  "
      ]
     },
     "execution_count": 8,
     "metadata": {},
     "output_type": "execute_result"
    }
   ],
   "source": [
    "tickers_df.head()"
   ]
  },
  {
   "cell_type": "code",
   "execution_count": 9,
   "metadata": {},
   "outputs": [],
   "source": [
    "tickers_df.to_parquet(output_path_full, write_index=False, partition_on=['ticker'], compression='snappy')"
   ]
  },
  {
   "cell_type": "code",
   "execution_count": 10,
   "metadata": {},
   "outputs": [],
   "source": [
    "client.close()"
   ]
  }
 ],
 "metadata": {
  "kernelspec": {
   "display_name": "Python 3",
   "language": "python",
   "name": "python3"
  },
  "language_info": {
   "codemirror_mode": {
    "name": "ipython",
    "version": 3
   },
   "file_extension": ".py",
   "mimetype": "text/x-python",
   "name": "python",
   "nbconvert_exporter": "python",
   "pygments_lexer": "ipython3",
   "version": "3.7.9"
  }
 },
 "nbformat": 4,
 "nbformat_minor": 4
}
